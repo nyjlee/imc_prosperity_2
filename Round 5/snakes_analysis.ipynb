{
 "cells": [
  {
   "cell_type": "code",
   "execution_count": 1,
   "metadata": {},
   "outputs": [],
   "source": [
    "import pandas as pd\n",
    "import matplotlib.pyplot as plt\n",
    "import numpy as np\n",
    "import math\n",
    "from scipy import stats"
   ]
  },
  {
   "cell_type": "code",
   "execution_count": null,
   "metadata": {},
   "outputs": [],
   "source": [
    "import os\n",
    "\n",
    "script_dir = os.path.dirname(__file__)\n",
    "\n",
    "csv_file_path_0 = os.path.join(script_dir, 'data', 'trades_round_1_day_-2.csv')\n",
    "csv_file_path_1 = os.path.join(script_dir, 'data', 'trades_round_1_day_-1.csv')\n",
    "csv_file_path_2 = os.path.join(script_dir, 'data', 'trades_round_1_day_0.csv')\n",
    "\n",
    "csv_file_path_3 = os.path.join(script_dir, 'data', 'trades_round_3_day_0.csv')\n",
    "csv_file_path_4 = os.path.join(script_dir, 'data', 'trades_round_3_day_1.csv')\n",
    "csv_file_path_5 = os.path.join(script_dir, 'data', 'trades_round_3_day_2.csv')\n",
    "\n",
    "csv_file_path_6 = os.path.join(script_dir, 'data', 'trades_round_4_day_1.csv')\n",
    "csv_file_path_7 = os.path.join(script_dir, 'data', 'trades_round_4_day_2.csv')\n",
    "csv_file_path_8 = os.path.join(script_dir, 'data', 'trades_round_4_day_3.csv')\n",
    "\n",
    "\n",
    "df_r1_day_minus_1 = pd.read_csv(csv_file_path_0, sep=';')\n",
    "df_r1_day_0 = pd.read_csv(csv_file_path_1, sep=';')\n",
    "df_r1_day_1 = pd.read_csv(csv_file_path_2, sep=';')\n",
    "\n",
    "df_r3_day_0 = pd.read_csv(csv_file_path_3, sep=';')\n",
    "df_r3_day_1 = pd.read_csv(csv_file_path_4, sep=';')\n",
    "df_r3_day_2 = pd.read_csv(csv_file_path_5, sep=';')\n",
    "\n",
    "df_r4_day_0 = pd.read_csv(csv_file_path_6, sep=';')\n",
    "df_r4_day_1 = pd.read_csv(csv_file_path_7, sep=';')\n",
    "df_r4_day_2 = pd.read_csv(csv_file_path_8, sep=';')"
   ]
  }
 ],
 "metadata": {
  "kernelspec": {
   "display_name": "Python 3",
   "language": "python",
   "name": "python3"
  },
  "language_info": {
   "codemirror_mode": {
    "name": "ipython",
    "version": 3
   },
   "file_extension": ".py",
   "mimetype": "text/x-python",
   "name": "python",
   "nbconvert_exporter": "python",
   "pygments_lexer": "ipython3",
   "version": "3.10.2"
  }
 },
 "nbformat": 4,
 "nbformat_minor": 2
}
