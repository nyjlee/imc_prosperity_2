{
 "cells": [
  {
   "cell_type": "code",
   "execution_count": 1,
   "id": "8579caeb-3468-40e7-bfa2-6abd25242560",
   "metadata": {
    "tags": []
   },
   "outputs": [],
   "source": [
    "\n",
    "import numpy as np \n",
    "import pandas as pd\n",
    "import matplotlib as mpl\n",
    "import matplotlib.pyplot as plt   \n",
    "import seaborn as sns           \n",
    "import os"
   ]
  },
  {
   "cell_type": "code",
   "execution_count": 2,
   "id": "4e1da7ad-2e74-4c4f-ad17-ae58e503cbc1",
   "metadata": {
    "tags": []
   },
   "outputs": [
    {
     "name": "stdout",
     "output_type": "stream",
     "text": [
      "           day       product  bid_price_1  bid_volume_1  bid_price_2  \\\n",
      "timestamp                                                              \n",
      "0.0          0     CHOCOLATE         7999           111          NaN   \n",
      "0.0          0  STRAWBERRIES         3999           210          NaN   \n",
      "0.0          0         ROSES        14999            72          NaN   \n",
      "0.0          0   GIFT_BASKET        71348            19      71347.0   \n",
      "1.0          0   GIFT_BASKET        71344             1      71343.0   \n",
      "...        ...           ...          ...           ...          ...   \n",
      "29998.0      2   GIFT_BASKET        69537             2      69536.0   \n",
      "29999.0      2     CHOCOLATE         7749           143          NaN   \n",
      "29999.0      2   GIFT_BASKET        69551             1      69550.0   \n",
      "29999.0      2  STRAWBERRIES         3984           240          NaN   \n",
      "29999.0      2         ROSES        14411            59          NaN   \n",
      "\n",
      "           bid_volume_2  bid_price_3  bid_volume_3  ask_price_1  ask_volume_1  \\\n",
      "timestamp                                                                       \n",
      "0.0                 NaN          NaN           NaN         8001           111   \n",
      "0.0                 NaN          NaN           NaN         4001           210   \n",
      "0.0                 NaN          NaN           NaN        15001            72   \n",
      "0.0                24.0          NaN           NaN        71362            19   \n",
      "1.0                12.0      71342.0          20.0        71355             1   \n",
      "...                 ...          ...           ...          ...           ...   \n",
      "29998.0            18.0      69535.0          24.0        69547             2   \n",
      "29999.0             NaN          NaN           NaN         7751           143   \n",
      "29999.0            19.0      69549.0          20.0        69561             1   \n",
      "29999.0             NaN          NaN           NaN         3985            92   \n",
      "29999.0             NaN          NaN           NaN        14412            59   \n",
      "\n",
      "           ask_price_2  ask_volume_2  ask_price_3  ask_volume_3  mid_price  \\\n",
      "timestamp                                                                    \n",
      "0.0                NaN           NaN          NaN           NaN     8000.0   \n",
      "0.0                NaN           NaN          NaN           NaN     4000.0   \n",
      "0.0                NaN           NaN          NaN           NaN    15000.0   \n",
      "0.0            71363.0          24.0          NaN           NaN    71355.0   \n",
      "1.0            71356.0          12.0      71357.0          20.0    71349.5   \n",
      "...                ...           ...          ...           ...        ...   \n",
      "29998.0        69548.0          18.0      69550.0          24.0    69542.0   \n",
      "29999.0            NaN           NaN          NaN           NaN     7750.0   \n",
      "29999.0        69562.0          19.0      69564.0          20.0    69556.0   \n",
      "29999.0         3986.0         148.0          NaN           NaN     3984.5   \n",
      "29999.0            NaN           NaN          NaN           NaN    14411.5   \n",
      "\n",
      "           profit_and_loss  \n",
      "timestamp                   \n",
      "0.0                    0.0  \n",
      "0.0                    0.0  \n",
      "0.0                    0.0  \n",
      "0.0                    0.0  \n",
      "1.0                    0.0  \n",
      "...                    ...  \n",
      "29998.0                0.0  \n",
      "29999.0                0.0  \n",
      "29999.0                0.0  \n",
      "29999.0                0.0  \n",
      "29999.0                0.0  \n",
      "\n",
      "[120000 rows x 16 columns]\n",
      "timestamp\n",
      "5000.0    26032.35\n",
      "5001.0    26025.05\n",
      "5002.0    26026.85\n",
      "5003.0    26023.75\n",
      "5004.0    26013.85\n",
      "            ...   \n",
      "7495.0    26415.15\n",
      "7496.0    26422.35\n",
      "7497.0    26408.15\n",
      "7498.0    26406.90\n",
      "7499.0    26406.25\n",
      "Name: mid_price, Length: 2500, dtype: float64\n",
      "SPREAD AVG: 25973.911119999997\n",
      "SPREAD STD: 171.56953703603997\n"
     ]
    }
   ],
   "source": [
    "import pandas as pd\n",
    "import numpy as np\n",
    "import matplotlib.pyplot as plt\n",
    "from sklearn.model_selection import train_test_split\n",
    "from sklearn.linear_model import LinearRegression\n",
    "from sklearn.metrics import mean_squared_error\n",
    "from pmdarima import auto_arima\n",
    "from statsmodels.tsa.arima.model import ARIMA\n",
    "from statsmodels.tsa.stattools import adfuller\n",
    "from statsmodels.tsa.api import VAR\n",
    "import statsmodels.api as sm\n",
    "\n",
    "import os\n",
    "\n",
    "\n",
    "\n",
    "\n",
    "df_0 = pd.read_csv('prices_round_3_day_0.csv', sep=';')\n",
    "df_1 = pd.read_csv('prices_round_3_day_1.csv', sep=';')\n",
    "df_2 = pd.read_csv('prices_round_3_day_2.csv', sep=';')\n",
    "\n",
    "\n",
    "for i, df in enumerate([df_0, df_1, df_2]):\n",
    "    df['timestamp'] = df['timestamp'] / 100 + i * 10000\n",
    "\n",
    "\n",
    "df = pd.concat([df_0, df_1])\n",
    "df = pd.concat([df, df_2])\n",
    "df = df.set_index('timestamp')\n",
    "print(df)\n",
    "\n",
    "def basket_spread(products_df):\n",
    "\n",
    "\n",
    "    chocolates = products_df[products_df['product'] == 'CHOCOLATE']['mid_price']\n",
    "    strawberries = products_df[products_df['product'] == 'STRAWBERRIES']['mid_price']\n",
    "    roses = products_df[products_df['product'] == 'ROSES']['mid_price']\n",
    "    gift_basket = products_df[products_df['product'] == 'GIFT_BASKET']['mid_price']\n",
    "\n",
    "    spread = gift_basket - 3.1* roses\n",
    "\n",
    "    print(spread)\n",
    "    print('SPREAD AVG:', spread.mean())\n",
    "    print('SPREAD STD:', spread.std())\n",
    "\n",
    "basket_spread(df.iloc[20000:30000])"
   ]
  },
  {
   "cell_type": "code",
   "execution_count": 3,
   "id": "032f8769-39a4-493e-889f-0bd2f18294fc",
   "metadata": {
    "tags": []
   },
   "outputs": [
    {
     "name": "stdout",
     "output_type": "stream",
     "text": [
      "timestamp\n",
      "0.0        24855.00\n",
      "1.0        24849.50\n",
      "2.0        24845.45\n",
      "3.0        24850.50\n",
      "4.0        24849.25\n",
      "             ...   \n",
      "29995.0    24865.05\n",
      "29996.0    24864.70\n",
      "29997.0    24867.35\n",
      "29998.0    24863.25\n",
      "29999.0    24880.35\n",
      "Name: mid_price, Length: 30000, dtype: float64\n",
      "SPREAD AVG: 25737.41977833333\n",
      "SPREAD STD: 315.47529033908154\n"
     ]
    }
   ],
   "source": [
    " basket_spread(df)"
   ]
  },
  {
   "cell_type": "code",
   "execution_count": 4,
   "id": "fb0bb9e9-3c13-4710-a8d1-291fdaef0d4d",
   "metadata": {
    "tags": []
   },
   "outputs": [
    {
     "data": {
      "text/html": [
       "<div>\n",
       "<style scoped>\n",
       "    .dataframe tbody tr th:only-of-type {\n",
       "        vertical-align: middle;\n",
       "    }\n",
       "\n",
       "    .dataframe tbody tr th {\n",
       "        vertical-align: top;\n",
       "    }\n",
       "\n",
       "    .dataframe thead th {\n",
       "        text-align: right;\n",
       "    }\n",
       "</style>\n",
       "<table border=\"1\" class=\"dataframe\">\n",
       "  <thead>\n",
       "    <tr style=\"text-align: right;\">\n",
       "      <th></th>\n",
       "      <th>day</th>\n",
       "      <th>product</th>\n",
       "      <th>bid_price_1</th>\n",
       "      <th>bid_volume_1</th>\n",
       "      <th>bid_price_2</th>\n",
       "      <th>bid_volume_2</th>\n",
       "      <th>bid_price_3</th>\n",
       "      <th>bid_volume_3</th>\n",
       "      <th>ask_price_1</th>\n",
       "      <th>ask_volume_1</th>\n",
       "      <th>ask_price_2</th>\n",
       "      <th>ask_volume_2</th>\n",
       "      <th>ask_price_3</th>\n",
       "      <th>ask_volume_3</th>\n",
       "      <th>mid_price</th>\n",
       "      <th>profit_and_loss</th>\n",
       "    </tr>\n",
       "    <tr>\n",
       "      <th>timestamp</th>\n",
       "      <th></th>\n",
       "      <th></th>\n",
       "      <th></th>\n",
       "      <th></th>\n",
       "      <th></th>\n",
       "      <th></th>\n",
       "      <th></th>\n",
       "      <th></th>\n",
       "      <th></th>\n",
       "      <th></th>\n",
       "      <th></th>\n",
       "      <th></th>\n",
       "      <th></th>\n",
       "      <th></th>\n",
       "      <th></th>\n",
       "      <th></th>\n",
       "    </tr>\n",
       "  </thead>\n",
       "  <tbody>\n",
       "    <tr>\n",
       "      <th>0.0</th>\n",
       "      <td>0</td>\n",
       "      <td>CHOCOLATE</td>\n",
       "      <td>7999</td>\n",
       "      <td>111</td>\n",
       "      <td>NaN</td>\n",
       "      <td>NaN</td>\n",
       "      <td>NaN</td>\n",
       "      <td>NaN</td>\n",
       "      <td>8001</td>\n",
       "      <td>111</td>\n",
       "      <td>NaN</td>\n",
       "      <td>NaN</td>\n",
       "      <td>NaN</td>\n",
       "      <td>NaN</td>\n",
       "      <td>8000.0</td>\n",
       "      <td>0.0</td>\n",
       "    </tr>\n",
       "    <tr>\n",
       "      <th>0.0</th>\n",
       "      <td>0</td>\n",
       "      <td>STRAWBERRIES</td>\n",
       "      <td>3999</td>\n",
       "      <td>210</td>\n",
       "      <td>NaN</td>\n",
       "      <td>NaN</td>\n",
       "      <td>NaN</td>\n",
       "      <td>NaN</td>\n",
       "      <td>4001</td>\n",
       "      <td>210</td>\n",
       "      <td>NaN</td>\n",
       "      <td>NaN</td>\n",
       "      <td>NaN</td>\n",
       "      <td>NaN</td>\n",
       "      <td>4000.0</td>\n",
       "      <td>0.0</td>\n",
       "    </tr>\n",
       "    <tr>\n",
       "      <th>0.0</th>\n",
       "      <td>0</td>\n",
       "      <td>ROSES</td>\n",
       "      <td>14999</td>\n",
       "      <td>72</td>\n",
       "      <td>NaN</td>\n",
       "      <td>NaN</td>\n",
       "      <td>NaN</td>\n",
       "      <td>NaN</td>\n",
       "      <td>15001</td>\n",
       "      <td>72</td>\n",
       "      <td>NaN</td>\n",
       "      <td>NaN</td>\n",
       "      <td>NaN</td>\n",
       "      <td>NaN</td>\n",
       "      <td>15000.0</td>\n",
       "      <td>0.0</td>\n",
       "    </tr>\n",
       "    <tr>\n",
       "      <th>0.0</th>\n",
       "      <td>0</td>\n",
       "      <td>GIFT_BASKET</td>\n",
       "      <td>71348</td>\n",
       "      <td>19</td>\n",
       "      <td>71347.0</td>\n",
       "      <td>24.0</td>\n",
       "      <td>NaN</td>\n",
       "      <td>NaN</td>\n",
       "      <td>71362</td>\n",
       "      <td>19</td>\n",
       "      <td>71363.0</td>\n",
       "      <td>24.0</td>\n",
       "      <td>NaN</td>\n",
       "      <td>NaN</td>\n",
       "      <td>71355.0</td>\n",
       "      <td>0.0</td>\n",
       "    </tr>\n",
       "    <tr>\n",
       "      <th>1.0</th>\n",
       "      <td>0</td>\n",
       "      <td>GIFT_BASKET</td>\n",
       "      <td>71344</td>\n",
       "      <td>1</td>\n",
       "      <td>71343.0</td>\n",
       "      <td>12.0</td>\n",
       "      <td>71342.0</td>\n",
       "      <td>20.0</td>\n",
       "      <td>71355</td>\n",
       "      <td>1</td>\n",
       "      <td>71356.0</td>\n",
       "      <td>12.0</td>\n",
       "      <td>71357.0</td>\n",
       "      <td>20.0</td>\n",
       "      <td>71349.5</td>\n",
       "      <td>0.0</td>\n",
       "    </tr>\n",
       "  </tbody>\n",
       "</table>\n",
       "</div>"
      ],
      "text/plain": [
       "           day       product  bid_price_1  bid_volume_1  bid_price_2  \\\n",
       "timestamp                                                              \n",
       "0.0          0     CHOCOLATE         7999           111          NaN   \n",
       "0.0          0  STRAWBERRIES         3999           210          NaN   \n",
       "0.0          0         ROSES        14999            72          NaN   \n",
       "0.0          0   GIFT_BASKET        71348            19      71347.0   \n",
       "1.0          0   GIFT_BASKET        71344             1      71343.0   \n",
       "\n",
       "           bid_volume_2  bid_price_3  bid_volume_3  ask_price_1  ask_volume_1  \\\n",
       "timestamp                                                                       \n",
       "0.0                 NaN          NaN           NaN         8001           111   \n",
       "0.0                 NaN          NaN           NaN         4001           210   \n",
       "0.0                 NaN          NaN           NaN        15001            72   \n",
       "0.0                24.0          NaN           NaN        71362            19   \n",
       "1.0                12.0      71342.0          20.0        71355             1   \n",
       "\n",
       "           ask_price_2  ask_volume_2  ask_price_3  ask_volume_3  mid_price  \\\n",
       "timestamp                                                                    \n",
       "0.0                NaN           NaN          NaN           NaN     8000.0   \n",
       "0.0                NaN           NaN          NaN           NaN     4000.0   \n",
       "0.0                NaN           NaN          NaN           NaN    15000.0   \n",
       "0.0            71363.0          24.0          NaN           NaN    71355.0   \n",
       "1.0            71356.0          12.0      71357.0          20.0    71349.5   \n",
       "\n",
       "           profit_and_loss  \n",
       "timestamp                   \n",
       "0.0                    0.0  \n",
       "0.0                    0.0  \n",
       "0.0                    0.0  \n",
       "0.0                    0.0  \n",
       "1.0                    0.0  "
      ]
     },
     "execution_count": 4,
     "metadata": {},
     "output_type": "execute_result"
    }
   ],
   "source": [
    "df.head(5)"
   ]
  },
  {
   "cell_type": "code",
   "execution_count": 5,
   "id": "8dc472e6-0a92-41ff-bdd6-900b6bab2bb9",
   "metadata": {
    "tags": []
   },
   "outputs": [],
   "source": [
    "chocolates = df[df['product'] == 'CHOCOLATE']['mid_price']\n",
    "strawberries = df[df['product'] == 'STRAWBERRIES']['mid_price']\n",
    "roses = df[df['product'] == 'ROSES']['mid_price']\n",
    "gift_basket = df[df['product'] == 'GIFT_BASKET']['mid_price']\n",
    "spread = gift_basket - roses"
   ]
  },
  {
   "cell_type": "code",
   "execution_count": 6,
   "id": "9b8b89d2-de5e-49fc-a797-0230f2f3ef4e",
   "metadata": {
    "tags": []
   },
   "outputs": [],
   "source": [
    "df['spread'] = spread"
   ]
  },
  {
   "cell_type": "code",
   "execution_count": 7,
   "id": "eb66ca13-0ba1-4fdb-b4bf-ee0b2902ee11",
   "metadata": {
    "tags": []
   },
   "outputs": [
    {
     "data": {
      "text/plain": [
       "timestamp\n",
       "0.0        56355.0\n",
       "0.0        56355.0\n",
       "0.0        56355.0\n",
       "0.0        56355.0\n",
       "1.0        56349.5\n",
       "            ...   \n",
       "29998.0    55129.5\n",
       "29999.0    55144.5\n",
       "29999.0    55144.5\n",
       "29999.0    55144.5\n",
       "29999.0    55144.5\n",
       "Name: spread, Length: 120000, dtype: float64"
      ]
     },
     "execution_count": 7,
     "metadata": {},
     "output_type": "execute_result"
    }
   ],
   "source": [
    "df['spread']"
   ]
  },
  {
   "cell_type": "code",
   "execution_count": 8,
   "id": "1b99fd6d-1d58-424d-8b09-881022620539",
   "metadata": {
    "tags": []
   },
   "outputs": [
    {
     "data": {
      "text/html": [
       "<div>\n",
       "<style scoped>\n",
       "    .dataframe tbody tr th:only-of-type {\n",
       "        vertical-align: middle;\n",
       "    }\n",
       "\n",
       "    .dataframe tbody tr th {\n",
       "        vertical-align: top;\n",
       "    }\n",
       "\n",
       "    .dataframe thead th {\n",
       "        text-align: right;\n",
       "    }\n",
       "</style>\n",
       "<table border=\"1\" class=\"dataframe\">\n",
       "  <thead>\n",
       "    <tr style=\"text-align: right;\">\n",
       "      <th></th>\n",
       "      <th>day</th>\n",
       "      <th>product</th>\n",
       "      <th>bid_price_1</th>\n",
       "      <th>bid_volume_1</th>\n",
       "      <th>bid_price_2</th>\n",
       "      <th>bid_volume_2</th>\n",
       "      <th>bid_price_3</th>\n",
       "      <th>bid_volume_3</th>\n",
       "      <th>ask_price_1</th>\n",
       "      <th>ask_volume_1</th>\n",
       "      <th>ask_price_2</th>\n",
       "      <th>ask_volume_2</th>\n",
       "      <th>ask_price_3</th>\n",
       "      <th>ask_volume_3</th>\n",
       "      <th>mid_price</th>\n",
       "      <th>profit_and_loss</th>\n",
       "      <th>spread</th>\n",
       "    </tr>\n",
       "    <tr>\n",
       "      <th>timestamp</th>\n",
       "      <th></th>\n",
       "      <th></th>\n",
       "      <th></th>\n",
       "      <th></th>\n",
       "      <th></th>\n",
       "      <th></th>\n",
       "      <th></th>\n",
       "      <th></th>\n",
       "      <th></th>\n",
       "      <th></th>\n",
       "      <th></th>\n",
       "      <th></th>\n",
       "      <th></th>\n",
       "      <th></th>\n",
       "      <th></th>\n",
       "      <th></th>\n",
       "      <th></th>\n",
       "    </tr>\n",
       "  </thead>\n",
       "  <tbody>\n",
       "    <tr>\n",
       "      <th>29998.0</th>\n",
       "      <td>2</td>\n",
       "      <td>GIFT_BASKET</td>\n",
       "      <td>69537</td>\n",
       "      <td>2</td>\n",
       "      <td>69536.0</td>\n",
       "      <td>18.0</td>\n",
       "      <td>69535.0</td>\n",
       "      <td>24.0</td>\n",
       "      <td>69547</td>\n",
       "      <td>2</td>\n",
       "      <td>69548.0</td>\n",
       "      <td>18.0</td>\n",
       "      <td>69550.0</td>\n",
       "      <td>24.0</td>\n",
       "      <td>69542.0</td>\n",
       "      <td>0.0</td>\n",
       "      <td>55129.5</td>\n",
       "    </tr>\n",
       "    <tr>\n",
       "      <th>29999.0</th>\n",
       "      <td>2</td>\n",
       "      <td>CHOCOLATE</td>\n",
       "      <td>7749</td>\n",
       "      <td>143</td>\n",
       "      <td>NaN</td>\n",
       "      <td>NaN</td>\n",
       "      <td>NaN</td>\n",
       "      <td>NaN</td>\n",
       "      <td>7751</td>\n",
       "      <td>143</td>\n",
       "      <td>NaN</td>\n",
       "      <td>NaN</td>\n",
       "      <td>NaN</td>\n",
       "      <td>NaN</td>\n",
       "      <td>7750.0</td>\n",
       "      <td>0.0</td>\n",
       "      <td>55144.5</td>\n",
       "    </tr>\n",
       "    <tr>\n",
       "      <th>29999.0</th>\n",
       "      <td>2</td>\n",
       "      <td>GIFT_BASKET</td>\n",
       "      <td>69551</td>\n",
       "      <td>1</td>\n",
       "      <td>69550.0</td>\n",
       "      <td>19.0</td>\n",
       "      <td>69549.0</td>\n",
       "      <td>20.0</td>\n",
       "      <td>69561</td>\n",
       "      <td>1</td>\n",
       "      <td>69562.0</td>\n",
       "      <td>19.0</td>\n",
       "      <td>69564.0</td>\n",
       "      <td>20.0</td>\n",
       "      <td>69556.0</td>\n",
       "      <td>0.0</td>\n",
       "      <td>55144.5</td>\n",
       "    </tr>\n",
       "    <tr>\n",
       "      <th>29999.0</th>\n",
       "      <td>2</td>\n",
       "      <td>STRAWBERRIES</td>\n",
       "      <td>3984</td>\n",
       "      <td>240</td>\n",
       "      <td>NaN</td>\n",
       "      <td>NaN</td>\n",
       "      <td>NaN</td>\n",
       "      <td>NaN</td>\n",
       "      <td>3985</td>\n",
       "      <td>92</td>\n",
       "      <td>3986.0</td>\n",
       "      <td>148.0</td>\n",
       "      <td>NaN</td>\n",
       "      <td>NaN</td>\n",
       "      <td>3984.5</td>\n",
       "      <td>0.0</td>\n",
       "      <td>55144.5</td>\n",
       "    </tr>\n",
       "    <tr>\n",
       "      <th>29999.0</th>\n",
       "      <td>2</td>\n",
       "      <td>ROSES</td>\n",
       "      <td>14411</td>\n",
       "      <td>59</td>\n",
       "      <td>NaN</td>\n",
       "      <td>NaN</td>\n",
       "      <td>NaN</td>\n",
       "      <td>NaN</td>\n",
       "      <td>14412</td>\n",
       "      <td>59</td>\n",
       "      <td>NaN</td>\n",
       "      <td>NaN</td>\n",
       "      <td>NaN</td>\n",
       "      <td>NaN</td>\n",
       "      <td>14411.5</td>\n",
       "      <td>0.0</td>\n",
       "      <td>55144.5</td>\n",
       "    </tr>\n",
       "  </tbody>\n",
       "</table>\n",
       "</div>"
      ],
      "text/plain": [
       "           day       product  bid_price_1  bid_volume_1  bid_price_2  \\\n",
       "timestamp                                                              \n",
       "29998.0      2   GIFT_BASKET        69537             2      69536.0   \n",
       "29999.0      2     CHOCOLATE         7749           143          NaN   \n",
       "29999.0      2   GIFT_BASKET        69551             1      69550.0   \n",
       "29999.0      2  STRAWBERRIES         3984           240          NaN   \n",
       "29999.0      2         ROSES        14411            59          NaN   \n",
       "\n",
       "           bid_volume_2  bid_price_3  bid_volume_3  ask_price_1  ask_volume_1  \\\n",
       "timestamp                                                                       \n",
       "29998.0            18.0      69535.0          24.0        69547             2   \n",
       "29999.0             NaN          NaN           NaN         7751           143   \n",
       "29999.0            19.0      69549.0          20.0        69561             1   \n",
       "29999.0             NaN          NaN           NaN         3985            92   \n",
       "29999.0             NaN          NaN           NaN        14412            59   \n",
       "\n",
       "           ask_price_2  ask_volume_2  ask_price_3  ask_volume_3  mid_price  \\\n",
       "timestamp                                                                    \n",
       "29998.0        69548.0          18.0      69550.0          24.0    69542.0   \n",
       "29999.0            NaN           NaN          NaN           NaN     7750.0   \n",
       "29999.0        69562.0          19.0      69564.0          20.0    69556.0   \n",
       "29999.0         3986.0         148.0          NaN           NaN     3984.5   \n",
       "29999.0            NaN           NaN          NaN           NaN    14411.5   \n",
       "\n",
       "           profit_and_loss   spread  \n",
       "timestamp                            \n",
       "29998.0                0.0  55129.5  \n",
       "29999.0                0.0  55144.5  \n",
       "29999.0                0.0  55144.5  \n",
       "29999.0                0.0  55144.5  \n",
       "29999.0                0.0  55144.5  "
      ]
     },
     "execution_count": 8,
     "metadata": {},
     "output_type": "execute_result"
    }
   ],
   "source": [
    "df.tail(5)"
   ]
  },
  {
   "cell_type": "code",
   "execution_count": 9,
   "id": "0da79eb1-89d4-40a3-b6aa-76994cc24389",
   "metadata": {
    "tags": []
   },
   "outputs": [
    {
     "data": {
      "image/png": "[encoded data removed]",
      "text/plain": [
       "<Figure size 1000x600 with 1 Axes>"
      ]
     },
     "metadata": {},
     "output_type": "display_data"
    }
   ],
   "source": [
    "import matplotlib.pyplot as plt\n",
    "\n",
    "# Assuming df is your DataFrame containing the data provided\n",
    "\n",
    "# Plot\n",
    "plt.figure(figsize=(10, 6))\n",
    "plt.plot(df.index, df['spread'], marker='o', linestyle='-')\n",
    "plt.title('Spread Over Time')\n",
    "plt.xlabel('Timestamp')\n",
    "plt.ylabel('Spread')\n",
    "plt.grid(True)\n",
    "plt.xticks(rotation=45)  # Rotate x-axis labels for better readability\n",
    "plt.tight_layout()\n",
    "plt.show()\n"
   ]
  },
  {
   "cell_type": "code",
   "execution_count": 12,
   "id": "4ed75db0-3847-49b7-bd89-18fb2d2d86ca",
   "metadata": {
    "tags": []
   },
   "outputs": [],
   "source": [
    "data = pd.DataFrame({'Chocolates': chocolates, 'Strawberries': strawberries, 'Roses': roses, 'Gift_Basket': gift_basket, 'Spread': spread})\n"
   ]
  },
  {
   "cell_type": "code",
   "execution_count": 13,
   "id": "af49f303-bb8b-428e-9c85-0b1f06f1f63b",
   "metadata": {
    "tags": []
   },
   "outputs": [
    {
     "name": "stdout",
     "output_type": "stream",
     "text": [
      "              Chocolates  Strawberries     Roses  Gift_Basket    Spread\n",
      "Chocolates      1.000000      0.273545  0.826358     0.947339  0.924839\n",
      "Strawberries    0.273545      1.000000  0.148667     0.498003  0.584218\n",
      "Roses           0.826358      0.148667  1.000000     0.850830  0.742156\n",
      "Gift_Basket     0.947339      0.498003  0.850830     1.000000  0.983613\n",
      "Spread          0.924839      0.584218  0.742156     0.983613  1.000000\n"
     ]
    }
   ],
   "source": [
    "# Calculate correlation\n",
    "correlation_matrix = data.corr()\n",
    "\n",
    "# Print correlation matrix\n",
    "print(correlation_matrix)"
   ]
  },
  {
   "cell_type": "code",
   "execution_count": null,
   "id": "3239b7fb-9a38-4625-b736-ed4134a8ee79",
   "metadata": {},
   "outputs": [],
   "source": []
  },
  {
   "cell_type": "code",
   "execution_count": 14,
   "id": "c349ab6d-2750-40ba-a18c-abb325ba6152",
   "metadata": {
    "tags": []
   },
   "outputs": [
    {
     "data": {
      "text/html": [
       "<div>\n",
       "<style scoped>\n",
       "    .dataframe tbody tr th:only-of-type {\n",
       "        vertical-align: middle;\n",
       "    }\n",
       "\n",
       "    .dataframe tbody tr th {\n",
       "        vertical-align: top;\n",
       "    }\n",
       "\n",
       "    .dataframe thead th {\n",
       "        text-align: right;\n",
       "    }\n",
       "</style>\n",
       "<table border=\"1\" class=\"dataframe\">\n",
       "  <thead>\n",
       "    <tr style=\"text-align: right;\">\n",
       "      <th></th>\n",
       "      <th>Chocolates</th>\n",
       "      <th>Strawberries</th>\n",
       "      <th>Roses</th>\n",
       "      <th>Gift_Basket</th>\n",
       "      <th>Spread</th>\n",
       "    </tr>\n",
       "    <tr>\n",
       "      <th>timestamp</th>\n",
       "      <th></th>\n",
       "      <th></th>\n",
       "      <th></th>\n",
       "      <th></th>\n",
       "      <th></th>\n",
       "    </tr>\n",
       "  </thead>\n",
       "  <tbody>\n",
       "    <tr>\n",
       "      <th>0.0</th>\n",
       "      <td>8000.0</td>\n",
       "      <td>4000.0</td>\n",
       "      <td>15000.0</td>\n",
       "      <td>71355.0</td>\n",
       "      <td>56355.0</td>\n",
       "    </tr>\n",
       "    <tr>\n",
       "      <th>1.0</th>\n",
       "      <td>8001.5</td>\n",
       "      <td>3999.5</td>\n",
       "      <td>15000.0</td>\n",
       "      <td>71349.5</td>\n",
       "      <td>56349.5</td>\n",
       "    </tr>\n",
       "    <tr>\n",
       "      <th>2.0</th>\n",
       "      <td>8001.0</td>\n",
       "      <td>3999.5</td>\n",
       "      <td>15000.5</td>\n",
       "      <td>71347.0</td>\n",
       "      <td>56346.5</td>\n",
       "    </tr>\n",
       "    <tr>\n",
       "      <th>3.0</th>\n",
       "      <td>8002.5</td>\n",
       "      <td>3999.5</td>\n",
       "      <td>15000.0</td>\n",
       "      <td>71350.5</td>\n",
       "      <td>56350.5</td>\n",
       "    </tr>\n",
       "    <tr>\n",
       "      <th>4.0</th>\n",
       "      <td>8002.0</td>\n",
       "      <td>3999.5</td>\n",
       "      <td>14997.5</td>\n",
       "      <td>71341.5</td>\n",
       "      <td>56344.0</td>\n",
       "    </tr>\n",
       "    <tr>\n",
       "      <th>...</th>\n",
       "      <td>...</td>\n",
       "      <td>...</td>\n",
       "      <td>...</td>\n",
       "      <td>...</td>\n",
       "      <td>...</td>\n",
       "    </tr>\n",
       "    <tr>\n",
       "      <th>29995.0</th>\n",
       "      <td>7750.5</td>\n",
       "      <td>3983.5</td>\n",
       "      <td>14409.5</td>\n",
       "      <td>69534.5</td>\n",
       "      <td>55125.0</td>\n",
       "    </tr>\n",
       "    <tr>\n",
       "      <th>29996.0</th>\n",
       "      <td>7750.5</td>\n",
       "      <td>3983.5</td>\n",
       "      <td>14408.0</td>\n",
       "      <td>69529.5</td>\n",
       "      <td>55121.5</td>\n",
       "    </tr>\n",
       "    <tr>\n",
       "      <th>29997.0</th>\n",
       "      <td>7750.5</td>\n",
       "      <td>3984.5</td>\n",
       "      <td>14411.5</td>\n",
       "      <td>69543.0</td>\n",
       "      <td>55131.5</td>\n",
       "    </tr>\n",
       "    <tr>\n",
       "      <th>29998.0</th>\n",
       "      <td>7750.0</td>\n",
       "      <td>3984.5</td>\n",
       "      <td>14412.5</td>\n",
       "      <td>69542.0</td>\n",
       "      <td>55129.5</td>\n",
       "    </tr>\n",
       "    <tr>\n",
       "      <th>29999.0</th>\n",
       "      <td>7750.0</td>\n",
       "      <td>3984.5</td>\n",
       "      <td>14411.5</td>\n",
       "      <td>69556.0</td>\n",
       "      <td>55144.5</td>\n",
       "    </tr>\n",
       "  </tbody>\n",
       "</table>\n",
       "<p>30000 rows × 5 columns</p>\n",
       "</div>"
      ],
      "text/plain": [
       "           Chocolates  Strawberries    Roses  Gift_Basket   Spread\n",
       "timestamp                                                         \n",
       "0.0            8000.0        4000.0  15000.0      71355.0  56355.0\n",
       "1.0            8001.5        3999.5  15000.0      71349.5  56349.5\n",
       "2.0            8001.0        3999.5  15000.5      71347.0  56346.5\n",
       "3.0            8002.5        3999.5  15000.0      71350.5  56350.5\n",
       "4.0            8002.0        3999.5  14997.5      71341.5  56344.0\n",
       "...               ...           ...      ...          ...      ...\n",
       "29995.0        7750.5        3983.5  14409.5      69534.5  55125.0\n",
       "29996.0        7750.5        3983.5  14408.0      69529.5  55121.5\n",
       "29997.0        7750.5        3984.5  14411.5      69543.0  55131.5\n",
       "29998.0        7750.0        3984.5  14412.5      69542.0  55129.5\n",
       "29999.0        7750.0        3984.5  14411.5      69556.0  55144.5\n",
       "\n",
       "[30000 rows x 5 columns]"
      ]
     },
     "execution_count": 14,
     "metadata": {},
     "output_type": "execute_result"
    }
   ],
   "source": [
    "# Chocolates com Roses e Gift Basket\n",
    "data"
   ]
  },
  {
   "cell_type": "code",
   "execution_count": 15,
   "id": "4fea9482-b395-4c07-a83a-ce9efe8e4989",
   "metadata": {
    "tags": []
   },
   "outputs": [],
   "source": [
    "import statsmodels.tsa.stattools as ts\n",
    "result = ts.coint(data['Chocolates'],data['Roses'])\n",
    "cointegration_t_statistic = result[0]\n",
    "p_val = result[1]\n",
    "criticalvalues_test_1_5_10 = result[2]"
   ]
  },
  {
   "cell_type": "code",
   "execution_count": 16,
   "id": "64cf5c1e-f8c8-41e0-832b-30a2fba84a77",
   "metadata": {
    "tags": []
   },
   "outputs": [
    {
     "data": {
      "text/plain": [
       "0.09391665614622141"
      ]
     },
     "execution_count": 16,
     "metadata": {},
     "output_type": "execute_result"
    }
   ],
   "source": [
    "#queremos p-val < 0,05\n",
    "p_val\n"
   ]
  },
  {
   "cell_type": "code",
   "execution_count": 17,
   "id": "6132ee95-31ce-402a-8d27-e5b511aafa7c",
   "metadata": {
    "tags": []
   },
   "outputs": [],
   "source": [
    "import statsmodels.tsa.stattools as ts\n",
    "result = ts.coint(data['Chocolates'],data['Gift_Basket'])\n",
    "cointegration_t_statistic = result[0]\n",
    "p_val = result[1]\n",
    "criticalvalues_test_1_5_10 = result[2]"
   ]
  },
  {
   "cell_type": "code",
   "execution_count": 18,
   "id": "8d9ba797-acab-4361-92f0-f183941d39c8",
   "metadata": {
    "tags": []
   },
   "outputs": [
    {
     "data": {
      "text/plain": [
       "0.07987947236850212"
      ]
     },
     "execution_count": 18,
     "metadata": {},
     "output_type": "execute_result"
    }
   ],
   "source": [
    "#queremos p-val < 0,05\n",
    "p_val\n"
   ]
  },
  {
   "cell_type": "code",
   "execution_count": 19,
   "id": "7351782f-a0b6-4b4c-96a6-bdfeb6de92bc",
   "metadata": {
    "tags": []
   },
   "outputs": [],
   "source": [
    "import statsmodels.tsa.stattools as ts\n",
    "result = ts.coint(data['Roses'],data['Gift_Basket'])\n",
    "cointegration_t_statistic = result[0]\n",
    "p_val = result[1]\n",
    "criticalvalues_test_1_5_10 = result[2]"
   ]
  },
  {
   "cell_type": "code",
   "execution_count": 20,
   "id": "6af049f4-9628-4e5c-899b-0619ecffaa31",
   "metadata": {
    "tags": []
   },
   "outputs": [
    {
     "data": {
      "text/plain": [
       "0.010191378268802342"
      ]
     },
     "execution_count": 20,
     "metadata": {},
     "output_type": "execute_result"
    }
   ],
   "source": [
    "#queremos p-val < 0,05\n",
    "p_val\n"
   ]
  },
  {
   "cell_type": "code",
   "execution_count": 21,
   "id": "7e9206ef-bd65-4819-a7f5-cf4b4baa4ce2",
   "metadata": {
    "tags": []
   },
   "outputs": [],
   "source": [
    "def find_cointegrated_pairs(data):\n",
    "    n = data.shape[1]\n",
    "    score_matrix = np.zeros((n, n))\n",
    "    pvalue_matrix = np.ones((n, n))\n",
    "    keys = data.keys()\n",
    "    pairs = []\n",
    "    for i in range(n):\n",
    "        for j in range(i+1, n):\n",
    "            S1 = data[keys[i]]\n",
    "            S2 = data[keys[j]]\n",
    "            result = ts.coint(S1, S2)\n",
    "            score = result[0]\n",
    "            pvalue = result[1]\n",
    "            score_matrix[i, j] = score\n",
    "            pvalue_matrix[i, j] = pvalue\n",
    "            if pvalue < 0.05:\n",
    "                pairs.append((keys[i], keys[j]))\n",
    "    return score_matrix, pvalue_matrix, pairs"
   ]
  },
  {
   "cell_type": "code",
   "execution_count": null,
   "id": "7b29be58-aa58-44ae-830a-a27b2ddbc299",
   "metadata": {
    "tags": []
   },
   "outputs": [],
   "source": [
    "find_cointegrated_pairs(data)"
   ]
  },
  {
   "cell_type": "code",
   "execution_count": null,
   "id": "5d02265e-8993-4bb4-9f3f-fe88501865db",
   "metadata": {
    "tags": []
   },
   "outputs": [],
   "source": [
    "plt.plot(gift_basket-roses, label = 'Spread(Gift_Basket-Spread)' )\n",
    "plt.legend()\n",
    "plt.title('Spreead between Gift_Basket - Spread')"
   ]
  },
  {
   "cell_type": "code",
   "execution_count": null,
   "id": "f0041fd4-1fff-4831-8fca-e8dde0b630fb",
   "metadata": {
    "tags": []
   },
   "outputs": [],
   "source": [
    "# Also, we can take a look at the price ratios between the two time series.\n",
    "plt.plot(spread)\n",
    "plt.axhline(spread.mean(), color='red')\n",
    "plt.legend()\n",
    "plt.title(\"Spread\")"
   ]
  },
  {
   "cell_type": "code",
   "execution_count": null,
   "id": "8b4c058d-1477-4e82-9943-1eecf6738b7a",
   "metadata": {
    "tags": []
   },
   "outputs": [],
   "source": [
    "# NOTE, here you can either use the spread OR the Price ratio approach. Anyways, let's standardize the ratio so we can have a \n",
    "# upper and lower bound to help evaluate our trends.. Let's stick with the ratio data.\n",
    "# Calculate the Zscores of each row.\n",
    "df_zscore = (spread - spread.mean())/spread.std()\n",
    "plt.plot(df_zscore, label = \"Z Scores\")\n",
    "plt.axhline(df_zscore.mean(), color = 'black')\n",
    "plt.axhline(1.0, color='red') # Setting the upper and lower bounds to be the z score of 1 and -1 (1/-1 standard deviation)\n",
    "plt.axhline(1.25, color='red') # 95% of our data will lie between these bounds.\n",
    "plt.axhline(-1.0, color='green') # 68% of our data will lie between these bounds.\n",
    "plt.axhline(-1.25, color='green') # 95% of our data will lie between these bounds.\n",
    "plt.legend(loc = 'best')\n",
    "plt.title('Z score of spread')\n",
    "plt.show()\n",
    "# For the most part, the range that exists outside of these 'bands' must come converge back to the mean. Thus, you can \n",
    "# determine when you can go long or short the pair (BRK_B to MSFT)."
   ]
  },
  {
   "cell_type": "code",
   "execution_count": null,
   "id": "22021b11-0fb0-4665-9cb9-a8a37e708d79",
   "metadata": {
    "tags": []
   },
   "outputs": [],
   "source": [
    "\n",
    "train = spread[0:round(0.8*len(spread))]\n",
    "test = spread[round(0.8*len(spread)):]\n",
    "len(train) + len(test) == len(spread)"
   ]
  },
  {
   "cell_type": "code",
   "execution_count": null,
   "id": "6ae68a6d-c793-49fd-9982-01d8ad86f349",
   "metadata": {
    "tags": []
   },
   "outputs": [],
   "source": [
    "len(train)"
   ]
  },
  {
   "cell_type": "code",
   "execution_count": null,
   "id": "e2a79d03-bbc2-4ad0-b41b-a1873f737e10",
   "metadata": {
    "tags": []
   },
   "outputs": [],
   "source": [
    "len(test)"
   ]
  },
  {
   "cell_type": "code",
   "execution_count": null,
   "id": "6a2469e9-4ae5-40fc-8997-a6bbe93f1a14",
   "metadata": {
    "tags": []
   },
   "outputs": [],
   "source": [
    "24001/6000"
   ]
  },
  {
   "cell_type": "code",
   "execution_count": null,
   "id": "2fc37b21-1ffd-44aa-92c1-96f882f98194",
   "metadata": {
    "tags": []
   },
   "outputs": [],
   "source": [
    "ratios_mavg5 = spread.rolling(window=5, center=False).mean()\n",
    "ratios_mavg20 = spread.rolling(window=20, center=False).mean()\n",
    "std_20 = spread.rolling(window=20, center=False).std()\n",
    "zscore_20_5 = (ratios_mavg5 - ratios_mavg20)/std_20\n",
    "print(zscore_20_5)\n",
    "plt.plot(spread.index, spread.values)\n",
    "plt.plot(ratios_mavg5.index, ratios_mavg5.values)\n",
    "plt.plot(ratios_mavg20.index, ratios_mavg20.values)\n",
    "plt.legend(['Ratio', '5d Ratio MA', '20d Ratio MA'])\n",
    "plt.xlabel('Date')\n",
    "plt.ylabel('Ratio')\n",
    "plt.title('spread with 5 day and 20 day Moving Averages')\n",
    "plt.show()"
   ]
  },
  {
   "cell_type": "code",
   "execution_count": null,
   "id": "d37295a2-68e6-4bf3-94f9-5196953c1503",
   "metadata": {
    "tags": []
   },
   "outputs": [],
   "source": [
    "\n",
    "zscore_20_5.plot()\n",
    "plt.axhline(0, color='black')\n",
    "plt.axhline(1, color='red', linestyle='--')\n",
    "plt.axhline(1.25, color='red', linestyle='--')\n",
    "plt.axhline(-1, color='green', linestyle='--')\n",
    "plt.axhline(-1.25, color='green', linestyle='--')\n",
    "plt.legend(['Rolling Ratio z-score', 'Mean', '+1','+1.25','-1','-1.25'])\n",
    "plt.show()"
   ]
  },
  {
   "cell_type": "code",
   "execution_count": null,
   "id": "fe46589d-b42e-4c64-b490-f9d0a484effa",
   "metadata": {
    "tags": []
   },
   "outputs": [],
   "source": [
    "zscore_20_5.mean()"
   ]
  },
  {
   "cell_type": "code",
   "execution_count": null,
   "id": "efcf559f-aa6d-4a1e-a788-94884f51d45c",
   "metadata": {
    "tags": []
   },
   "outputs": [],
   "source": [
    "# Assuming you have already defined and split your data into 'train' and 'test'\n",
    "\n",
    "# Define trading strategy thresholds\n",
    "lower_bound = -1.25\n",
    "upper_bound = 1.25\n",
    "position = None  # Track current position (None for no position, 'long' for long position, 'short' for short position)\n",
    "pnl = 0  # Track cumulative profit and loss\n",
    "\n",
    "# Generate trading signals and calculate PNL\n",
    "for i in range(len(test)):\n",
    "    if df_zscore.iloc[i] < lower_bound:\n",
    "        if position != 'long':  # Enter long position\n",
    "            position = 'long'\n",
    "            entry_price = test.iloc[i]\n",
    "    elif df_zscore.iloc[i] > upper_bound:\n",
    "        if position != 'short':  # Enter short position\n",
    "            position = 'short'\n",
    "            entry_price = test.iloc[i]\n",
    "    elif lower_bound <= df_zscore.iloc[i] <= upper_bound:\n",
    "        if position:  # Exit position\n",
    "            if position == 'long':\n",
    "                pnl += test.iloc[i] - entry_price\n",
    "            elif position == 'short':\n",
    "                pnl += entry_price - test.iloc[i]\n",
    "            position = None\n",
    "\n",
    "print(\"Cumulative PNL:\", pnl)\n"
   ]
  },
  {
   "cell_type": "code",
   "execution_count": null,
   "id": "29c53422-c912-4700-a135-3ed6582e5ee7",
   "metadata": {},
   "outputs": [],
   "source": []
  },
  {
   "cell_type": "code",
   "execution_count": null,
   "id": "7cfd871d-2163-4312-9dc4-9d1b2389a259",
   "metadata": {},
   "outputs": [],
   "source": [
    "import numpy as np\n",
    "\n",
    "# Define ranges of window sizes to test\n",
    "window_sizes_mavg20 = range(10, 400, 10)  # Test window sizes from 10 to 60 in steps of 10 for the 20-day moving average\n",
    "\n",
    "# Initialize variables to track the best parameters and performance\n",
    "best_pnl = float('-inf')\n",
    "best_params = None\n",
    "\n",
    "# Iterate over all combinations of window sizes\n",
    "for mavg20_window in window_sizes_mavg20:\n",
    "    # Calculate moving averages and z-score based on the current window sizes\n",
    "    ratios_mavg20 = spread.rolling(window=mavg20_window, center=False).mean()\n",
    "    std_20 = spread.rolling(window=mavg20_window, center=False).std()\n",
    "    zscore = (spread - ratios_mavg20) / std_20\n",
    "    \n",
    "    # Initialize variables for trading\n",
    "    position = None\n",
    "    pnl = 0\n",
    "    \n",
    "    # Generate trading signals and calculate PNL\n",
    "    for i in range(len(test)):\n",
    "        if zscore.iloc[i] < lower_bound:\n",
    "            if position != 'long':  # Enter long position\n",
    "                position = 'long'\n",
    "                entry_price = test.iloc[i]\n",
    "        elif zscore.iloc[i] > upper_bound:\n",
    "            if position != 'short':  # Enter short position\n",
    "                position = 'short'\n",
    "                entry_price = test.iloc[i]\n",
    "        elif lower_bound <= zscore.iloc[i] <= upper_bound:\n",
    "            if position:  # Exit position\n",
    "                if position == 'long':\n",
    "                    pnl += test.iloc[i] - entry_price\n",
    "                elif position == 'short':\n",
    "                    pnl += entry_price - test.iloc[i]\n",
    "                position = None\n",
    "        \n",
    "    # Update best parameters and performance if current performance is better\n",
    "    if pnl > best_pnl:\n",
    "        best_pnl = pnl\n",
    "        best_params =  mavg20_window\n",
    "\n",
    "# Print the best parameters and performance\n",
    "print(\"Best PNL:\", best_pnl)\n",
    "print(\"Best Parameters (mavg20_window):\", best_params)\n",
    "\n"
   ]
  },
  {
   "cell_type": "code",
   "execution_count": null,
   "id": "bdfec116-cad2-471c-9a3a-9e2ce146ae12",
   "metadata": {},
   "outputs": [],
   "source": [
    "import numpy as np\n",
    "\n",
    "lower_bound = 1.25\n",
    "upper_bound = 1.25\n",
    "\n",
    "window_sizes_mavg20 = range(10, 400, 10)  \n",
    "\n",
    "best_pnl = float('-inf')\n",
    "best_params = None\n",
    "\n",
    "for mavg20_window in window_sizes_mavg20:\n",
    "\n",
    "    ratios_mavg20 = spread.rolling(window=mavg20_window, center=False).mean()\n",
    "    std_20 = spread.rolling(window=mavg20_window, center=False).std()\n",
    "    zscore = (spread - ratios_mavg20) / std_20\n",
    "\n",
    "    position = None\n",
    "    pnl = 0\n",
    "\n",
    "    for i in range(len(test)):\n",
    "        if zscore.iloc[i] < lower_bound:\n",
    "            if position != 'long':  \n",
    "                position = 'long'\n",
    "                entry_price = test.iloc[i]\n",
    "        elif zscore.iloc[i] > upper_bound:\n",
    "            if position != 'short':  \n",
    "                position = 'short'\n",
    "                entry_price = test.iloc[i]\n",
    "        elif lower_bound <= zscore.iloc[i] <= upper_bound:\n",
    "            if position:  # Exit position\n",
    "                if position == 'long':\n",
    "                    pnl += test.iloc[i] - entry_price\n",
    "                elif position == 'short':\n",
    "                    pnl += entry_price - test.iloc[i]\n",
    "                position = None\n",
    "\n",
    "    if pnl > best_pnl:\n",
    "        best_pnl = pnl\n",
    "        best_params = mavg20_window\n",
    "\n",
    "print(\"Best PNL:\", best_pnl)\n",
    "print(\"Best Parameter (mavg20_window):\", best_params)\n",
    "\n"
   ]
  },
  {
   "cell_type": "code",
   "execution_count": null,
   "id": "1147361b-ab6e-4ee3-8490-fab1e53cf0a4",
   "metadata": {},
   "outputs": [],
   "source": [
    "import numpy as np\n",
    "\n",
    "lower_bound = 1.25\n",
    "upper_bound = 1.25\n",
    "\n",
    "window_sizes_mavg20 = range(10, 400, 10)  \n",
    "\n",
    "best_pnl = float('-inf')\n",
    "best_params = None\n",
    "\n",
    "for mavg20_window in window_sizes_mavg20:\n",
    "\n",
    "    ratios_mavg20 = spread.rolling(window=mavg20_window, center=False).mean()\n",
    "    std_20 = spread.rolling(window=mavg20_window, center=False).std()\n",
    "    zscore = (spread - ratios_mavg20) / std_20\n",
    "\n",
    "    position = None\n",
    "    pnl = 0\n",
    "\n",
    "    for i in range(len(test)):\n",
    "        if zscore.iloc[i] < lower_bound:\n",
    "            if position != 'long':  \n",
    "                position = 'long'\n",
    "                entry_price = test.iloc[i]\n",
    "        elif zscore.iloc[i] > upper_bound:\n",
    "            if position != 'short':  \n",
    "                position = 'short'\n",
    "                entry_price = test.iloc[i]\n",
    "        elif lower_bound <= zscore.iloc[i] <= upper_bound:\n",
    "            if position:  # Exit position\n",
    "                if position == 'long':\n",
    "                    pnl += test.iloc[i] - entry_price\n",
    "                elif position == 'short':\n",
    "                    pnl += entry_price - test.iloc[i]\n",
    "                position = None\n",
    "\n",
    "    if pnl > best_pnl:\n",
    "        best_pnl = pnl\n",
    "        best_params = mavg20_window\n",
    "\n",
    "print(\"Best PNL:\", best_pnl)\n",
    "print(\"Best Parameter (mavg20_window):\", best_params)\n",
    "\n"
   ]
  },
  {
   "cell_type": "code",
   "execution_count": null,
   "id": "c5e07c6d-84f5-49b6-87a5-cb0791a51e30",
   "metadata": {},
   "outputs": [],
   "source": []
  }
 ],
 "metadata": {
  "kernelspec": {
   "display_name": "Python 3 (ipykernel)",
   "language": "python",
   "name": "python3"
  },
  "language_info": {
   "codemirror_mode": {
    "name": "ipython",
    "version": 3
   },
   "file_extension": ".py",
   "mimetype": "text/x-python",
   "name": "python",
   "nbconvert_exporter": "python",
   "pygments_lexer": "ipython3",
   "version": "3.11.5"
  }
 },
 "nbformat": 4,
 "nbformat_minor": 5
}
